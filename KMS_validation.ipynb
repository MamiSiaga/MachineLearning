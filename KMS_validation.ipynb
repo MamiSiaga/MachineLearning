{
  "nbformat": 4,
  "nbformat_minor": 0,
  "metadata": {
    "colab": {
      "name": "KMS validation.ipynb",
      "provenance": [],
      "collapsed_sections": []
    },
    "kernelspec": {
      "name": "python3",
      "display_name": "Python 3"
    },
    "language_info": {
      "name": "python"
    },
    "accelerator": "GPU"
  },
  "cells": [
    {
      "cell_type": "markdown",
      "source": [
        "### KMS Validation with image classification"
      ],
      "metadata": {
        "id": "iI4U6RsBzcKc"
      }
    },
    {
      "cell_type": "code",
      "metadata": {
        "id": "pyon5OmBGXkZ"
      },
      "source": [
        "import os\n",
        "import tensorflow as tf\n",
        "import numpy as np"
      ],
      "execution_count": null,
      "outputs": []
    },
    {
      "cell_type": "code",
      "metadata": {
        "id": "n4ycnr2jIi0L"
      },
      "source": [
        "!git clone https://github.com/MamiSiaga/MachineLearning.git"
      ],
      "execution_count": null,
      "outputs": []
    },
    {
      "cell_type": "code",
      "metadata": {
        "id": "Rt8ISk3FI5EZ"
      },
      "source": [
        "# Directory with our training dandelion pictures\n",
        "train_kms_dir = '/content/MachineLearning/Data/KMS_validation/train/kms'\n",
        "\n",
        "# Directory with our training grass pictures\n",
        "train_not_dir = '/content/MachineLearning/Data/KMS_validation/train/not kms'\n",
        "\n",
        "# Directory with our validation dandelion pictures\n",
        "valid_kms_dir = '/content/MachineLearning/Data/KMS_validation/validation/kms'\n",
        "\n",
        "# Directory with our validation grass pictures\n",
        "valid_not_dir = '/content/MachineLearning/Data/KMS_validation/validation/not kms'"
      ],
      "execution_count": null,
      "outputs": []
    },
    {
      "cell_type": "code",
      "metadata": {
        "id": "pLvJMCnbJWnv"
      },
      "source": [
        "train_kms_names = os.listdir(train_kms_dir)\n",
        "print(train_kms_names[:10])\n",
        "\n",
        "train_not_names = os.listdir(train_not_dir)\n",
        "print(train_not_names[:10])\n",
        "\n",
        "validation_kms_names = os.listdir(valid_kms_dir)\n",
        "print(validation_kms_names[:10])\n",
        "\n",
        "validation_not_names = os.listdir(valid_not_dir)\n",
        "print(validation_not_names[:10])"
      ],
      "execution_count": null,
      "outputs": []
    },
    {
      "cell_type": "code",
      "metadata": {
        "id": "GXq5o1H2JjMJ"
      },
      "source": [
        "print('total training kms images:', len(os.listdir(train_kms_dir)))\n",
        "print('total training not kms images:', len(os.listdir(train_not_dir)))\n",
        "print('total validation kms images:', len(os.listdir(valid_kms_dir)))\n",
        "print('total validation not kms images:', len(os.listdir(valid_not_dir)))"
      ],
      "execution_count": null,
      "outputs": []
    },
    {
      "cell_type": "code",
      "metadata": {
        "id": "5tR-rUmCKk9Z"
      },
      "source": [
        "from tensorflow.keras.preprocessing.image import ImageDataGenerator\n",
        "\n",
        "train_kms_fnames = os.listdir(train_kms_dir)\n",
        "train_not_fnames = os.listdir(train_not_dir)\n",
        "\n",
        "train_dir = '/content/MachineLearning/Data/KMS_validation/train'\n",
        "validation_dir = '/content/MachineLearning/Data/KMS_validation/validation'\n",
        "\n",
        "# Add our data-augmentation parameters to ImageDataGenerator\n",
        "train_datagen = ImageDataGenerator(rescale = 1/255.)\n",
        "# Note that the validation data should not be augmented!\n",
        "test_datagen = ImageDataGenerator(rescale = 1/255.)\n",
        "\n",
        "train_generator = train_datagen.flow_from_directory(train_dir,\n",
        "                                                    batch_size = 1,\n",
        "                                                    target_size = (150, 150))     \n",
        "\n",
        "# Flow validation images in batches of 20 using test_datagen generator\n",
        "validation_generator =  test_datagen.flow_from_directory(validation_dir,\n",
        "                                                          batch_size  = 1,\n",
        "                                                          target_size = (150, 150))"
      ],
      "execution_count": null,
      "outputs": []
    },
    {
      "cell_type": "code",
      "metadata": {
        "id": "8GrER3W7RqZg"
      },
      "source": [
        "validation_generator.class_indices"
      ],
      "execution_count": null,
      "outputs": []
    },
    {
      "cell_type": "code",
      "metadata": {
        "id": "MDBrdTq3R5Sc"
      },
      "source": [
        "from tensorflow import keras\n",
        "\n",
        "tf.keras.backend.clear_session()\n",
        "model = keras.Sequential()\n",
        "\n",
        "# Convolutional layer and maxpool layer 1\n",
        "model.add(keras.layers.Conv2D(32,(3,3),activation='relu',input_shape=(150,150,3)))\n",
        "model.add(keras.layers.MaxPool2D(2,2))\n",
        "\n",
        "# Convolutional layer and maxpool layer 2\n",
        "model.add(keras.layers.Conv2D(64,(3,3),activation='relu'))\n",
        "model.add(keras.layers.MaxPool2D(2,2))\n",
        "\n",
        "# Convolutional layer and maxpool layer 3\n",
        "model.add(keras.layers.Conv2D(128,(3,3),activation='relu'))\n",
        "model.add(keras.layers.MaxPool2D(2,2))\n",
        "\n",
        "# Convolutional layer and maxpool layer 4\n",
        "model.add(keras.layers.Conv2D(128,(3,3),activation='relu'))\n",
        "model.add(keras.layers.MaxPool2D(2,2))\n",
        "\n",
        "# This layer flattens the resulting image array to 1D array\n",
        "model.add(keras.layers.Flatten())\n",
        "\n",
        "# Hidden layer with 512 neurons and Rectified Linear Unit activation function \n",
        "model.add(keras.layers.Dense(512,activation='relu'))\n",
        "\n",
        "# Output layer with single neuron which gives 0 for Cat or 1 for Dog \n",
        "#Here we use sigmoid activation function which makes our model output to lie between 0 and 1\n",
        "model.add(keras.layers.Dense(2, activation='softmax'))\n",
        "\n",
        "model.summary()"
      ],
      "execution_count": null,
      "outputs": []
    },
    {
      "cell_type": "code",
      "metadata": {
        "id": "UnG_idv9SFtT"
      },
      "source": [
        "optimizer = keras.optimizers.Adam(learning_rate=0.0001)\n",
        "model.compile(optimizer=optimizer,loss='categorical_crossentropy',metrics=['accuracy'])"
      ],
      "execution_count": null,
      "outputs": []
    },
    {
      "cell_type": "code",
      "metadata": {
        "id": "EWV8kNQeSLyY"
      },
      "source": [
        "history = model.fit_generator(train_generator,\n",
        "                              epochs = 10,\n",
        "                              validation_data = validation_generator)"
      ],
      "execution_count": null,
      "outputs": []
    },
    {
      "cell_type": "code",
      "source": [
        "from keras.utils.vis_utils import plot_model\n",
        "plot_model(model, to_file='plot.png', show_shapes=True, show_layer_names=True)"
      ],
      "metadata": {
        "id": "CIO9AuYt-CPm"
      },
      "execution_count": null,
      "outputs": []
    },
    {
      "cell_type": "code",
      "metadata": {
        "id": "RWbZvlsjn9MT"
      },
      "source": [
        "def predict(path):\n",
        "    image_path = path\n",
        "\n",
        "    img = tf.keras.preprocessing.image.load_img(\n",
        "        image_path, target_size=(150, 150)\n",
        "    )\n",
        "    img_array = tf.keras.preprocessing.image.img_to_array(img)\n",
        "    img_array = tf.expand_dims(img_array, 0) # Create a batch\n",
        "\n",
        "    images = np.vstack([img_array])\n",
        "\n",
        "    predictions = model.predict(images)\n",
        "\n",
        "    print(predictions)"
      ],
      "execution_count": null,
      "outputs": []
    },
    {
      "cell_type": "code",
      "metadata": {
        "id": "0qiAgOELlm5l"
      },
      "source": [
        "predict(\"/content/MachineLearning/images/image1.jpg\")"
      ],
      "execution_count": null,
      "outputs": []
    },
    {
      "cell_type": "code",
      "metadata": {
        "id": "7YJWNd2mlpiJ"
      },
      "source": [
        "predict(\"/content/MachineLearning/images/image4.jpg\")"
      ],
      "execution_count": null,
      "outputs": []
    },
    {
      "cell_type": "code",
      "metadata": {
        "id": "Cj4Iln6-ltMM"
      },
      "source": [
        "predict('/content/MachineLearning/Data/KMS_validation/validation/not kms/not1.jpg')"
      ],
      "execution_count": null,
      "outputs": []
    },
    {
      "cell_type": "code",
      "metadata": {
        "id": "Wa-PxIYyoBws"
      },
      "source": [
        "predict('/content/MachineLearning/Data/KMS_validation/validation/not kms/not2.jpg')"
      ],
      "execution_count": null,
      "outputs": []
    },
    {
      "cell_type": "markdown",
      "metadata": {
        "id": "WV2u6mAAytOt"
      },
      "source": [
        "## Save Model"
      ]
    },
    {
      "cell_type": "code",
      "metadata": {
        "id": "jaU3MIBHoOsH"
      },
      "source": [
        "model.save('/content/MachineLearning/Model')"
      ],
      "execution_count": null,
      "outputs": []
    },
    {
      "cell_type": "code",
      "metadata": {
        "id": "-3X0t2mR71w9"
      },
      "source": [
        "converter = tf.lite.TFLiteConverter.from_saved_model('/content/MachineLearning/Model') # path to the SavedModel directory\n",
        "tflite_model = converter.convert()\n",
        "\n",
        "# Save the model.\n",
        "with open('/content/MachineLearning/Model/model.tflite', 'wb') as f:\n",
        "  f.write(tflite_model)"
      ],
      "execution_count": null,
      "outputs": []
    },
    {
      "cell_type": "code",
      "source": [
        "import matplotlib.pyplot as plt\n",
        "\n",
        "\n",
        "acc = history.history['accuracy']\n",
        "val_acc = history.history['val_accuracy']\n",
        "loss = history.history['loss']\n",
        "val_loss = history.history['val_loss']\n",
        "\n",
        "epochs = range(len(acc))\n",
        "\n",
        "plt.plot(epochs, acc, 'r', label='Train')\n",
        "plt.plot(epochs, val_acc, 'b', label='Val')\n",
        "plt.title('model accuracy')\n",
        "plt.legend(loc=0)\n",
        "plt.figure()\n",
        "\n",
        "\n",
        "plt.show()"
      ],
      "metadata": {
        "id": "qfIBaJ6Q86ST"
      },
      "execution_count": null,
      "outputs": []
    },
    {
      "cell_type": "code",
      "source": [
        "plt.plot(epochs, loss, 'r', label='Train')\n",
        "plt.plot(epochs, val_loss, 'b', label='Val')\n",
        "plt.title('model loss')\n",
        "plt.legend(loc=0)\n",
        "plt.figure()\n",
        "\n",
        "\n",
        "plt.show()"
      ],
      "metadata": {
        "id": "43vyp9cxVel7"
      },
      "execution_count": null,
      "outputs": []
    }
  ]
}